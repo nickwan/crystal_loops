{
 "cells": [
  {
   "cell_type": "code",
   "execution_count": 1,
   "metadata": {
    "collapsed": true
   },
   "outputs": [],
   "source": [
    "import pandas as pd\n",
    "import numpy as np"
   ]
  },
  {
   "cell_type": "code",
   "execution_count": 2,
   "metadata": {},
   "outputs": [
    {
     "data": {
      "text/plain": [
       "(20, 5)"
      ]
     },
     "execution_count": 2,
     "metadata": {},
     "output_type": "execute_result"
    }
   ],
   "source": [
    "data = pd.DataFrame(np.random.rand(20,5))\n",
    "data.shape"
   ]
  },
  {
   "cell_type": "markdown",
   "metadata": {},
   "source": [
    "# Regular for loop\n",
    "For loops in python work based on column label, not by index like in matlab. If I want to just go through all of the first column (labeled 0) then I can just iterate over that one column like so:"
   ]
  },
  {
   "cell_type": "code",
   "execution_count": 3,
   "metadata": {},
   "outputs": [
    {
     "name": "stdout",
     "output_type": "stream",
     "text": [
      "0.27439672119826375\n",
      "0.09699903202479743\n",
      "0.410812247697549\n",
      "0.7280063989094548\n",
      "0.7321530215856412\n",
      "0.3506980105353622\n",
      "0.4032623977695008\n",
      "0.323190410844836\n",
      "0.17569811256108792\n",
      "0.1730873834636002\n",
      "0.7227471411077043\n",
      "0.22582535204625487\n",
      "0.5211345406718816\n",
      "0.26293754427879\n",
      "0.28750634130213704\n",
      "0.4103534797448758\n",
      "0.14747431013587187\n",
      "0.07700007841573653\n",
      "0.6879804172838697\n",
      "0.4873982891477249\n"
     ]
    }
   ],
   "source": [
    "for n in data[0]:\n",
    "    print(n)"
   ]
  },
  {
   "cell_type": "markdown",
   "metadata": {},
   "source": [
    "Just for posterity, here's what that column of data looks like:"
   ]
  },
  {
   "cell_type": "code",
   "execution_count": 4,
   "metadata": {},
   "outputs": [
    {
     "data": {
      "text/html": [
       "<div>\n",
       "<style>\n",
       "    .dataframe thead tr:only-child th {\n",
       "        text-align: right;\n",
       "    }\n",
       "\n",
       "    .dataframe thead th {\n",
       "        text-align: left;\n",
       "    }\n",
       "\n",
       "    .dataframe tbody tr th {\n",
       "        vertical-align: top;\n",
       "    }\n",
       "</style>\n",
       "<table border=\"1\" class=\"dataframe\">\n",
       "  <thead>\n",
       "    <tr style=\"text-align: right;\">\n",
       "      <th></th>\n",
       "      <th>0</th>\n",
       "    </tr>\n",
       "  </thead>\n",
       "  <tbody>\n",
       "    <tr>\n",
       "      <th>0</th>\n",
       "      <td>0.274397</td>\n",
       "    </tr>\n",
       "    <tr>\n",
       "      <th>1</th>\n",
       "      <td>0.096999</td>\n",
       "    </tr>\n",
       "    <tr>\n",
       "      <th>2</th>\n",
       "      <td>0.410812</td>\n",
       "    </tr>\n",
       "    <tr>\n",
       "      <th>3</th>\n",
       "      <td>0.728006</td>\n",
       "    </tr>\n",
       "    <tr>\n",
       "      <th>4</th>\n",
       "      <td>0.732153</td>\n",
       "    </tr>\n",
       "    <tr>\n",
       "      <th>5</th>\n",
       "      <td>0.350698</td>\n",
       "    </tr>\n",
       "    <tr>\n",
       "      <th>6</th>\n",
       "      <td>0.403262</td>\n",
       "    </tr>\n",
       "    <tr>\n",
       "      <th>7</th>\n",
       "      <td>0.323190</td>\n",
       "    </tr>\n",
       "    <tr>\n",
       "      <th>8</th>\n",
       "      <td>0.175698</td>\n",
       "    </tr>\n",
       "    <tr>\n",
       "      <th>9</th>\n",
       "      <td>0.173087</td>\n",
       "    </tr>\n",
       "    <tr>\n",
       "      <th>10</th>\n",
       "      <td>0.722747</td>\n",
       "    </tr>\n",
       "    <tr>\n",
       "      <th>11</th>\n",
       "      <td>0.225825</td>\n",
       "    </tr>\n",
       "    <tr>\n",
       "      <th>12</th>\n",
       "      <td>0.521135</td>\n",
       "    </tr>\n",
       "    <tr>\n",
       "      <th>13</th>\n",
       "      <td>0.262938</td>\n",
       "    </tr>\n",
       "    <tr>\n",
       "      <th>14</th>\n",
       "      <td>0.287506</td>\n",
       "    </tr>\n",
       "    <tr>\n",
       "      <th>15</th>\n",
       "      <td>0.410353</td>\n",
       "    </tr>\n",
       "    <tr>\n",
       "      <th>16</th>\n",
       "      <td>0.147474</td>\n",
       "    </tr>\n",
       "    <tr>\n",
       "      <th>17</th>\n",
       "      <td>0.077000</td>\n",
       "    </tr>\n",
       "    <tr>\n",
       "      <th>18</th>\n",
       "      <td>0.687980</td>\n",
       "    </tr>\n",
       "    <tr>\n",
       "      <th>19</th>\n",
       "      <td>0.487398</td>\n",
       "    </tr>\n",
       "  </tbody>\n",
       "</table>\n",
       "</div>"
      ],
      "text/plain": [
       "           0\n",
       "0   0.274397\n",
       "1   0.096999\n",
       "2   0.410812\n",
       "3   0.728006\n",
       "4   0.732153\n",
       "5   0.350698\n",
       "6   0.403262\n",
       "7   0.323190\n",
       "8   0.175698\n",
       "9   0.173087\n",
       "10  0.722747\n",
       "11  0.225825\n",
       "12  0.521135\n",
       "13  0.262938\n",
       "14  0.287506\n",
       "15  0.410353\n",
       "16  0.147474\n",
       "17  0.077000\n",
       "18  0.687980\n",
       "19  0.487398"
      ]
     },
     "execution_count": 4,
     "metadata": {},
     "output_type": "execute_result"
    }
   ],
   "source": [
    "data[[0]]"
   ]
  },
  {
   "cell_type": "markdown",
   "metadata": {},
   "source": [
    "Say I wanted to also keep the running index values, I can wrap my iterator (aka the thing I want to loop through) in the enumerate() function:"
   ]
  },
  {
   "cell_type": "code",
   "execution_count": 5,
   "metadata": {},
   "outputs": [
    {
     "name": "stdout",
     "output_type": "stream",
     "text": [
      "0 0.27439672119826375\n",
      "1 0.09699903202479743\n",
      "2 0.410812247697549\n",
      "3 0.7280063989094548\n",
      "4 0.7321530215856412\n",
      "5 0.3506980105353622\n",
      "6 0.4032623977695008\n",
      "7 0.323190410844836\n",
      "8 0.17569811256108792\n",
      "9 0.1730873834636002\n",
      "10 0.7227471411077043\n",
      "11 0.22582535204625487\n",
      "12 0.5211345406718816\n",
      "13 0.26293754427879\n",
      "14 0.28750634130213704\n",
      "15 0.4103534797448758\n",
      "16 0.14747431013587187\n",
      "17 0.07700007841573653\n",
      "18 0.6879804172838697\n",
      "19 0.4873982891477249\n"
     ]
    }
   ],
   "source": [
    "for idx, n in enumerate(data[0]):\n",
    "    print(idx, n)"
   ]
  },
  {
   "cell_type": "markdown",
   "metadata": {},
   "source": [
    "Say I wanted to loop through two columns. In matlab, you might do a nested for loop. You can do that here too:"
   ]
  },
  {
   "cell_type": "code",
   "execution_count": 6,
   "metadata": {},
   "outputs": [
    {
     "data": {
      "text/plain": [
       "RangeIndex(start=0, stop=5, step=1)"
      ]
     },
     "execution_count": 6,
     "metadata": {},
     "output_type": "execute_result"
    }
   ],
   "source": [
    "# data.columns will let you go through each column. \n",
    "# a range() iterator is exactly what it sounds like (creates a range from x to y)\n",
    "data.columns"
   ]
  },
  {
   "cell_type": "code",
   "execution_count": 7,
   "metadata": {},
   "outputs": [
    {
     "name": "stdout",
     "output_type": "stream",
     "text": [
      "\n",
      "column:\n",
      "0\n",
      "\n",
      "0.27439672119826375\n",
      "0.09699903202479743\n",
      "0.410812247697549\n",
      "0.7280063989094548\n",
      "0.7321530215856412\n",
      "0.3506980105353622\n",
      "0.4032623977695008\n",
      "0.323190410844836\n",
      "0.17569811256108792\n",
      "0.1730873834636002\n",
      "0.7227471411077043\n",
      "0.22582535204625487\n",
      "0.5211345406718816\n",
      "0.26293754427879\n",
      "0.28750634130213704\n",
      "0.4103534797448758\n",
      "0.14747431013587187\n",
      "0.07700007841573653\n",
      "0.6879804172838697\n",
      "0.4873982891477249\n",
      "\n",
      "column:\n",
      "1\n",
      "\n",
      "0.05896467159868268\n",
      "0.09417369971035672\n",
      "0.9184360355685851\n",
      "0.1490431727404673\n",
      "0.6371796211221116\n",
      "0.7216088274402561\n",
      "0.07559126755849266\n",
      "0.4752673849978929\n",
      "0.3579600045293301\n",
      "0.8636978433398043\n",
      "0.32476661914621574\n",
      "0.19870832433171048\n",
      "0.8730462675197428\n",
      "0.39966221555532777\n",
      "0.786132282261481\n",
      "0.6823426728494734\n",
      "0.4847525108586156\n",
      "0.09713816736123804\n",
      "0.6543540376932752\n",
      "0.03758301993055446\n",
      "\n",
      "column:\n",
      "2\n",
      "\n",
      "0.7014469124042736\n",
      "0.5323515106423637\n",
      "0.23406088186041607\n",
      "0.8508128680241287\n",
      "0.3432710000314979\n",
      "0.9431699956232313\n",
      "0.8680904332447513\n",
      "0.24530063933228974\n",
      "0.8780630613984854\n",
      "0.857170404787786\n",
      "0.7008093694050346\n",
      "0.314015436107137\n",
      "0.657897108642625\n",
      "0.02951600203133331\n",
      "0.4724501696876895\n",
      "0.40041842342402056\n",
      "0.36738243781334046\n",
      "0.5707910600465536\n",
      "0.32273598627279443\n",
      "0.11958811787729628\n",
      "\n",
      "column:\n",
      "3\n",
      "\n",
      "0.4251464466312732\n",
      "0.46099614488898943\n",
      "0.1602107743160469\n",
      "0.6632266371056516\n",
      "0.7267317289798021\n",
      "0.2723847442416154\n",
      "0.606123246331751\n",
      "0.472824782228193\n",
      "0.6757386605103921\n",
      "0.18636005554305446\n",
      "0.807523688789299\n",
      "0.5094150451648167\n",
      "0.7350383432643867\n",
      "0.1599143978239831\n",
      "0.5748942543831271\n",
      "0.3459235279398344\n",
      "0.11085537744911356\n",
      "0.1257591241246141\n",
      "0.14136960817619182\n",
      "0.9874830647980295\n",
      "\n",
      "column:\n",
      "4\n",
      "\n",
      "0.9878681114369325\n",
      "0.2568472986353906\n",
      "0.06536219052276926\n",
      "0.8887909871457583\n",
      "0.7425531009904526\n",
      "0.5502446501694471\n",
      "0.48332082501095674\n",
      "0.04385275095759811\n",
      "0.30227729935508274\n",
      "0.15099485869359675\n",
      "0.6582383426491663\n",
      "0.7516556739004223\n",
      "0.3356146180156936\n",
      "0.3039496003501242\n",
      "0.18646171183912164\n",
      "0.8206431640558053\n",
      "0.1798089092212879\n",
      "0.897886321592576\n",
      "0.39097220736761684\n",
      "0.041363506817638895\n"
     ]
    }
   ],
   "source": [
    "for col in data.columns:\n",
    "    print()\n",
    "    print('column:')\n",
    "    print(col)\n",
    "    print()\n",
    "    for n in data[col]:\n",
    "        print(n)"
   ]
  },
  {
   "cell_type": "markdown",
   "metadata": {},
   "source": [
    "For dataframe reference:"
   ]
  },
  {
   "cell_type": "code",
   "execution_count": 8,
   "metadata": {},
   "outputs": [
    {
     "data": {
      "text/html": [
       "<div>\n",
       "<style>\n",
       "    .dataframe thead tr:only-child th {\n",
       "        text-align: right;\n",
       "    }\n",
       "\n",
       "    .dataframe thead th {\n",
       "        text-align: left;\n",
       "    }\n",
       "\n",
       "    .dataframe tbody tr th {\n",
       "        vertical-align: top;\n",
       "    }\n",
       "</style>\n",
       "<table border=\"1\" class=\"dataframe\">\n",
       "  <thead>\n",
       "    <tr style=\"text-align: right;\">\n",
       "      <th></th>\n",
       "      <th>0</th>\n",
       "      <th>1</th>\n",
       "      <th>2</th>\n",
       "      <th>3</th>\n",
       "      <th>4</th>\n",
       "    </tr>\n",
       "  </thead>\n",
       "  <tbody>\n",
       "    <tr>\n",
       "      <th>0</th>\n",
       "      <td>0.274397</td>\n",
       "      <td>0.058965</td>\n",
       "      <td>0.701447</td>\n",
       "      <td>0.425146</td>\n",
       "      <td>0.987868</td>\n",
       "    </tr>\n",
       "    <tr>\n",
       "      <th>1</th>\n",
       "      <td>0.096999</td>\n",
       "      <td>0.094174</td>\n",
       "      <td>0.532352</td>\n",
       "      <td>0.460996</td>\n",
       "      <td>0.256847</td>\n",
       "    </tr>\n",
       "    <tr>\n",
       "      <th>2</th>\n",
       "      <td>0.410812</td>\n",
       "      <td>0.918436</td>\n",
       "      <td>0.234061</td>\n",
       "      <td>0.160211</td>\n",
       "      <td>0.065362</td>\n",
       "    </tr>\n",
       "    <tr>\n",
       "      <th>3</th>\n",
       "      <td>0.728006</td>\n",
       "      <td>0.149043</td>\n",
       "      <td>0.850813</td>\n",
       "      <td>0.663227</td>\n",
       "      <td>0.888791</td>\n",
       "    </tr>\n",
       "    <tr>\n",
       "      <th>4</th>\n",
       "      <td>0.732153</td>\n",
       "      <td>0.637180</td>\n",
       "      <td>0.343271</td>\n",
       "      <td>0.726732</td>\n",
       "      <td>0.742553</td>\n",
       "    </tr>\n",
       "    <tr>\n",
       "      <th>5</th>\n",
       "      <td>0.350698</td>\n",
       "      <td>0.721609</td>\n",
       "      <td>0.943170</td>\n",
       "      <td>0.272385</td>\n",
       "      <td>0.550245</td>\n",
       "    </tr>\n",
       "    <tr>\n",
       "      <th>6</th>\n",
       "      <td>0.403262</td>\n",
       "      <td>0.075591</td>\n",
       "      <td>0.868090</td>\n",
       "      <td>0.606123</td>\n",
       "      <td>0.483321</td>\n",
       "    </tr>\n",
       "    <tr>\n",
       "      <th>7</th>\n",
       "      <td>0.323190</td>\n",
       "      <td>0.475267</td>\n",
       "      <td>0.245301</td>\n",
       "      <td>0.472825</td>\n",
       "      <td>0.043853</td>\n",
       "    </tr>\n",
       "    <tr>\n",
       "      <th>8</th>\n",
       "      <td>0.175698</td>\n",
       "      <td>0.357960</td>\n",
       "      <td>0.878063</td>\n",
       "      <td>0.675739</td>\n",
       "      <td>0.302277</td>\n",
       "    </tr>\n",
       "    <tr>\n",
       "      <th>9</th>\n",
       "      <td>0.173087</td>\n",
       "      <td>0.863698</td>\n",
       "      <td>0.857170</td>\n",
       "      <td>0.186360</td>\n",
       "      <td>0.150995</td>\n",
       "    </tr>\n",
       "    <tr>\n",
       "      <th>10</th>\n",
       "      <td>0.722747</td>\n",
       "      <td>0.324767</td>\n",
       "      <td>0.700809</td>\n",
       "      <td>0.807524</td>\n",
       "      <td>0.658238</td>\n",
       "    </tr>\n",
       "    <tr>\n",
       "      <th>11</th>\n",
       "      <td>0.225825</td>\n",
       "      <td>0.198708</td>\n",
       "      <td>0.314015</td>\n",
       "      <td>0.509415</td>\n",
       "      <td>0.751656</td>\n",
       "    </tr>\n",
       "    <tr>\n",
       "      <th>12</th>\n",
       "      <td>0.521135</td>\n",
       "      <td>0.873046</td>\n",
       "      <td>0.657897</td>\n",
       "      <td>0.735038</td>\n",
       "      <td>0.335615</td>\n",
       "    </tr>\n",
       "    <tr>\n",
       "      <th>13</th>\n",
       "      <td>0.262938</td>\n",
       "      <td>0.399662</td>\n",
       "      <td>0.029516</td>\n",
       "      <td>0.159914</td>\n",
       "      <td>0.303950</td>\n",
       "    </tr>\n",
       "    <tr>\n",
       "      <th>14</th>\n",
       "      <td>0.287506</td>\n",
       "      <td>0.786132</td>\n",
       "      <td>0.472450</td>\n",
       "      <td>0.574894</td>\n",
       "      <td>0.186462</td>\n",
       "    </tr>\n",
       "    <tr>\n",
       "      <th>15</th>\n",
       "      <td>0.410353</td>\n",
       "      <td>0.682343</td>\n",
       "      <td>0.400418</td>\n",
       "      <td>0.345924</td>\n",
       "      <td>0.820643</td>\n",
       "    </tr>\n",
       "    <tr>\n",
       "      <th>16</th>\n",
       "      <td>0.147474</td>\n",
       "      <td>0.484753</td>\n",
       "      <td>0.367382</td>\n",
       "      <td>0.110855</td>\n",
       "      <td>0.179809</td>\n",
       "    </tr>\n",
       "    <tr>\n",
       "      <th>17</th>\n",
       "      <td>0.077000</td>\n",
       "      <td>0.097138</td>\n",
       "      <td>0.570791</td>\n",
       "      <td>0.125759</td>\n",
       "      <td>0.897886</td>\n",
       "    </tr>\n",
       "    <tr>\n",
       "      <th>18</th>\n",
       "      <td>0.687980</td>\n",
       "      <td>0.654354</td>\n",
       "      <td>0.322736</td>\n",
       "      <td>0.141370</td>\n",
       "      <td>0.390972</td>\n",
       "    </tr>\n",
       "    <tr>\n",
       "      <th>19</th>\n",
       "      <td>0.487398</td>\n",
       "      <td>0.037583</td>\n",
       "      <td>0.119588</td>\n",
       "      <td>0.987483</td>\n",
       "      <td>0.041364</td>\n",
       "    </tr>\n",
       "  </tbody>\n",
       "</table>\n",
       "</div>"
      ],
      "text/plain": [
       "           0         1         2         3         4\n",
       "0   0.274397  0.058965  0.701447  0.425146  0.987868\n",
       "1   0.096999  0.094174  0.532352  0.460996  0.256847\n",
       "2   0.410812  0.918436  0.234061  0.160211  0.065362\n",
       "3   0.728006  0.149043  0.850813  0.663227  0.888791\n",
       "4   0.732153  0.637180  0.343271  0.726732  0.742553\n",
       "5   0.350698  0.721609  0.943170  0.272385  0.550245\n",
       "6   0.403262  0.075591  0.868090  0.606123  0.483321\n",
       "7   0.323190  0.475267  0.245301  0.472825  0.043853\n",
       "8   0.175698  0.357960  0.878063  0.675739  0.302277\n",
       "9   0.173087  0.863698  0.857170  0.186360  0.150995\n",
       "10  0.722747  0.324767  0.700809  0.807524  0.658238\n",
       "11  0.225825  0.198708  0.314015  0.509415  0.751656\n",
       "12  0.521135  0.873046  0.657897  0.735038  0.335615\n",
       "13  0.262938  0.399662  0.029516  0.159914  0.303950\n",
       "14  0.287506  0.786132  0.472450  0.574894  0.186462\n",
       "15  0.410353  0.682343  0.400418  0.345924  0.820643\n",
       "16  0.147474  0.484753  0.367382  0.110855  0.179809\n",
       "17  0.077000  0.097138  0.570791  0.125759  0.897886\n",
       "18  0.687980  0.654354  0.322736  0.141370  0.390972\n",
       "19  0.487398  0.037583  0.119588  0.987483  0.041364"
      ]
     },
     "execution_count": 8,
     "metadata": {},
     "output_type": "execute_result"
    }
   ],
   "source": [
    "data"
   ]
  },
  {
   "cell_type": "markdown",
   "metadata": {},
   "source": [
    "# Comprehensions"
   ]
  },
  {
   "cell_type": "markdown",
   "metadata": {},
   "source": [
    "Since python is function based, you may want to set up a complex set of information per each point in your data. Say I want to make a function that takes a mean from all other columns and makes a difference-percent from each column. I could do that for a single point like this:"
   ]
  },
  {
   "cell_type": "code",
   "execution_count": 9,
   "metadata": {},
   "outputs": [
    {
     "name": "stdout",
     "output_type": "stream",
     "text": [
      "-0.49499692510962817\n",
      "-0.7113915688377397\n",
      "0.19242791090244812\n",
      "0.14113235132255442\n",
      "0.19548095897416468\n",
      "-0.43604269203319795\n",
      "-0.20661593435243344\n",
      "0.04487070939646801\n",
      "-0.6825744975328332\n",
      "-0.66361784935939\n",
      "0.1604160259404509\n",
      "-0.49075193399093087\n",
      "-0.19874650318089937\n",
      "0.1777160794343758\n",
      "-0.4306631554393492\n",
      "-0.2702646863921165\n",
      "-0.48381375984490643\n",
      "-0.8179209475311235\n",
      "0.8231506697440838\n",
      "0.6438145409637492\n"
     ]
    }
   ],
   "source": [
    "for idx, n in enumerate(data[0]):\n",
    "    # mean of row not in column 0\n",
    "    row_mean = data.iloc[idx].loc[data.columns != 0].mean()\n",
    "    \n",
    "    # percent difference from data point n\n",
    "    print((n - row_mean)/row_mean)"
   ]
  },
  {
   "cell_type": "markdown",
   "metadata": {},
   "source": [
    "I could just turn the thing in the for loop into a function like this:"
   ]
  },
  {
   "cell_type": "code",
   "execution_count": 10,
   "metadata": {
    "collapsed": true
   },
   "outputs": [],
   "source": [
    "def percent_diff(idx, n, col):\n",
    "    # mean of row not in column col\n",
    "    row_mean = data.iloc[idx].loc[data.columns != col].mean()\n",
    "    \n",
    "    # percent difference from data point n\n",
    "    return (n - row_mean)/row_mean"
   ]
  },
  {
   "cell_type": "code",
   "execution_count": 11,
   "metadata": {},
   "outputs": [
    {
     "data": {
      "text/plain": [
       "-0.49499692510962817"
      ]
     },
     "execution_count": 11,
     "metadata": {},
     "output_type": "execute_result"
    }
   ],
   "source": [
    "# So if we want col 0, first value\n",
    "n = data[0][0]\n",
    "percent_diff(0, n, 0)"
   ]
  },
  {
   "cell_type": "markdown",
   "metadata": {},
   "source": [
    "Then I could use this in the for loop like this:"
   ]
  },
  {
   "cell_type": "code",
   "execution_count": 12,
   "metadata": {},
   "outputs": [
    {
     "name": "stdout",
     "output_type": "stream",
     "text": [
      "-0.49499692510962817\n",
      "-0.7113915688377397\n",
      "0.19242791090244812\n",
      "0.14113235132255442\n",
      "0.19548095897416468\n",
      "-0.43604269203319795\n",
      "-0.20661593435243344\n",
      "0.04487070939646801\n",
      "-0.6825744975328332\n",
      "-0.66361784935939\n",
      "0.1604160259404509\n",
      "-0.49075193399093087\n",
      "-0.19874650318089937\n",
      "0.1777160794343758\n",
      "-0.4306631554393492\n",
      "-0.2702646863921165\n",
      "-0.48381375984490643\n",
      "-0.8179209475311235\n",
      "0.8231506697440838\n",
      "0.6438145409637492\n"
     ]
    }
   ],
   "source": [
    "for idx, n in enumerate(data[0]):\n",
    "    # function does all the work for us now\n",
    "    print(percent_diff(idx, n, 0))"
   ]
  },
  {
   "cell_type": "markdown",
   "metadata": {},
   "source": [
    "So, alternatively, if you have something that spits out a list like above, and it's in function format, then you can use the more-resource-efficient list comprehension to do the same thing! It basically just takes the for loop statement you normally do and puts it at the end. Then you take your function statement and write that in the front. Sort of like: \n",
    "```python\n",
    "[do stuff to your data(data) for data in matrix]  \n",
    "```\n",
    "like so:"
   ]
  },
  {
   "cell_type": "code",
   "execution_count": 13,
   "metadata": {},
   "outputs": [
    {
     "data": {
      "text/plain": [
       "[-0.49499692510962817,\n",
       " -0.7113915688377397,\n",
       " 0.19242791090244812,\n",
       " 0.14113235132255442,\n",
       " 0.19548095897416468,\n",
       " -0.43604269203319795,\n",
       " -0.20661593435243344,\n",
       " 0.04487070939646801,\n",
       " -0.6825744975328332,\n",
       " -0.66361784935939,\n",
       " 0.1604160259404509,\n",
       " -0.49075193399093087,\n",
       " -0.19874650318089937,\n",
       " 0.1777160794343758,\n",
       " -0.4306631554393492,\n",
       " -0.2702646863921165,\n",
       " -0.48381375984490643,\n",
       " -0.8179209475311235,\n",
       " 0.8231506697440838,\n",
       " 0.6438145409637492]"
      ]
     },
     "execution_count": 13,
     "metadata": {},
     "output_type": "execute_result"
    }
   ],
   "source": [
    "[percent_diff(idx, n, 0) for idx, n in enumerate(data[0])]"
   ]
  },
  {
   "cell_type": "markdown",
   "metadata": {},
   "source": [
    "We can time it and see how each thing does"
   ]
  },
  {
   "cell_type": "code",
   "execution_count": 14,
   "metadata": {},
   "outputs": [
    {
     "name": "stdout",
     "output_type": "stream",
     "text": [
      "-0.49499692510962817\n",
      "-0.7113915688377397\n",
      "0.19242791090244812\n",
      "0.14113235132255442\n",
      "0.19548095897416468\n",
      "-0.43604269203319795\n",
      "-0.20661593435243344\n",
      "0.04487070939646801\n",
      "-0.6825744975328332\n",
      "-0.66361784935939\n",
      "0.1604160259404509\n",
      "-0.49075193399093087\n",
      "-0.19874650318089937\n",
      "0.1777160794343758\n",
      "-0.4306631554393492\n",
      "-0.2702646863921165\n",
      "-0.48381375984490643\n",
      "-0.8179209475311235\n",
      "0.8231506697440838\n",
      "0.6438145409637492\n",
      "Wall time: 13 ms\n"
     ]
    }
   ],
   "source": [
    "%%time\n",
    "\n",
    "for idx, n in enumerate(data[0]):\n",
    "    # mean of row not in column 0\n",
    "    row_mean = data.iloc[idx].loc[data.columns != 0].mean()\n",
    "    \n",
    "    # percent difference from data point n\n",
    "    print((n - row_mean)/row_mean)"
   ]
  },
  {
   "cell_type": "code",
   "execution_count": 15,
   "metadata": {},
   "outputs": [
    {
     "name": "stdout",
     "output_type": "stream",
     "text": [
      "-0.49499692510962817\n",
      "-0.7113915688377397\n",
      "0.19242791090244812\n",
      "0.14113235132255442\n",
      "0.19548095897416468\n",
      "-0.43604269203319795\n",
      "-0.20661593435243344\n",
      "0.04487070939646801\n",
      "-0.6825744975328332\n",
      "-0.66361784935939\n",
      "0.1604160259404509\n",
      "-0.49075193399093087\n",
      "-0.19874650318089937\n",
      "0.1777160794343758\n",
      "-0.4306631554393492\n",
      "-0.2702646863921165\n",
      "-0.48381375984490643\n",
      "-0.8179209475311235\n",
      "0.8231506697440838\n",
      "0.6438145409637492\n",
      "Wall time: 20.1 ms\n"
     ]
    }
   ],
   "source": [
    "%%time\n",
    "\n",
    "for idx, n in enumerate(data[0]):\n",
    "    # function does all the work for us now\n",
    "    print(percent_diff(idx, n, 0))"
   ]
  },
  {
   "cell_type": "code",
   "execution_count": 16,
   "metadata": {},
   "outputs": [
    {
     "name": "stdout",
     "output_type": "stream",
     "text": [
      "Wall time: 10 ms\n"
     ]
    },
    {
     "data": {
      "text/plain": [
       "[-0.49499692510962817,\n",
       " -0.7113915688377397,\n",
       " 0.19242791090244812,\n",
       " 0.14113235132255442,\n",
       " 0.19548095897416468,\n",
       " -0.43604269203319795,\n",
       " -0.20661593435243344,\n",
       " 0.04487070939646801,\n",
       " -0.6825744975328332,\n",
       " -0.66361784935939,\n",
       " 0.1604160259404509,\n",
       " -0.49075193399093087,\n",
       " -0.19874650318089937,\n",
       " 0.1777160794343758,\n",
       " -0.4306631554393492,\n",
       " -0.2702646863921165,\n",
       " -0.48381375984490643,\n",
       " -0.8179209475311235,\n",
       " 0.8231506697440838,\n",
       " 0.6438145409637492]"
      ]
     },
     "execution_count": 16,
     "metadata": {},
     "output_type": "execute_result"
    }
   ],
   "source": [
    "%%time \n",
    "[percent_diff(idx, n, 0) for idx, n in enumerate(data[0])]"
   ]
  },
  {
   "cell_type": "markdown",
   "metadata": {},
   "source": [
    "So list comprehension does what the traditional for loop does in half the time! "
   ]
  },
  {
   "cell_type": "markdown",
   "metadata": {},
   "source": [
    "# pandas apply  \n",
    "You can also use pandas to do the looping for you. Say you had a function that detected some range of values to be important. You could write a function for that:"
   ]
  },
  {
   "cell_type": "code",
   "execution_count": 17,
   "metadata": {
    "collapsed": true
   },
   "outputs": [],
   "source": [
    "def flagger(value):\n",
    "    if (value >=.4) and (value <=.6):\n",
    "        return 1\n",
    "    else:\n",
    "        return 0"
   ]
  },
  {
   "cell_type": "code",
   "execution_count": 18,
   "metadata": {},
   "outputs": [
    {
     "data": {
      "text/plain": [
       "[0, 0, 1, 0, 0, 0, 1, 0, 0, 0, 0, 0, 1, 0, 0, 1, 0, 0, 0, 1]"
      ]
     },
     "execution_count": 18,
     "metadata": {},
     "output_type": "execute_result"
    }
   ],
   "source": [
    "# np.arange() is the same as range() except it also works with floats (range() only works with int)\n",
    "[flagger(x) for x in data[0]]"
   ]
  },
  {
   "cell_type": "markdown",
   "metadata": {},
   "source": [
    "So our flagger works. We could do this for each column:"
   ]
  },
  {
   "cell_type": "code",
   "execution_count": 19,
   "metadata": {
    "scrolled": true
   },
   "outputs": [
    {
     "data": {
      "text/plain": [
       "[0,\n",
       " 0,\n",
       " 1,\n",
       " 0,\n",
       " 0,\n",
       " 0,\n",
       " 1,\n",
       " 0,\n",
       " 0,\n",
       " 0,\n",
       " 0,\n",
       " 0,\n",
       " 1,\n",
       " 0,\n",
       " 0,\n",
       " 1,\n",
       " 0,\n",
       " 0,\n",
       " 0,\n",
       " 1,\n",
       " 0,\n",
       " 0,\n",
       " 0,\n",
       " 0,\n",
       " 0,\n",
       " 0,\n",
       " 0,\n",
       " 1,\n",
       " 0,\n",
       " 0,\n",
       " 0,\n",
       " 0,\n",
       " 0,\n",
       " 0,\n",
       " 0,\n",
       " 0,\n",
       " 1,\n",
       " 0,\n",
       " 0,\n",
       " 0,\n",
       " 0,\n",
       " 1,\n",
       " 0,\n",
       " 0,\n",
       " 0,\n",
       " 0,\n",
       " 0,\n",
       " 0,\n",
       " 0,\n",
       " 0,\n",
       " 0,\n",
       " 0,\n",
       " 0,\n",
       " 0,\n",
       " 1,\n",
       " 1,\n",
       " 0,\n",
       " 1,\n",
       " 0,\n",
       " 0,\n",
       " 1,\n",
       " 1,\n",
       " 0,\n",
       " 0,\n",
       " 0,\n",
       " 0,\n",
       " 0,\n",
       " 1,\n",
       " 0,\n",
       " 0,\n",
       " 0,\n",
       " 1,\n",
       " 0,\n",
       " 0,\n",
       " 1,\n",
       " 0,\n",
       " 0,\n",
       " 0,\n",
       " 0,\n",
       " 0,\n",
       " 0,\n",
       " 0,\n",
       " 0,\n",
       " 0,\n",
       " 0,\n",
       " 1,\n",
       " 1,\n",
       " 0,\n",
       " 0,\n",
       " 0,\n",
       " 0,\n",
       " 0,\n",
       " 0,\n",
       " 0,\n",
       " 0,\n",
       " 0,\n",
       " 0,\n",
       " 0,\n",
       " 0,\n",
       " 0]"
      ]
     },
     "execution_count": 19,
     "metadata": {},
     "output_type": "execute_result"
    }
   ],
   "source": [
    "[flagger(x) for col in data.columns for x in data[col]]"
   ]
  },
  {
   "cell_type": "markdown",
   "metadata": {},
   "source": [
    "But since we're in pandas, it's probably best to use the pandas features for looping since they are designed to be efficient for pandas"
   ]
  },
  {
   "cell_type": "code",
   "execution_count": 20,
   "metadata": {},
   "outputs": [
    {
     "data": {
      "text/plain": [
       "0     0\n",
       "1     0\n",
       "2     1\n",
       "3     0\n",
       "4     0\n",
       "5     0\n",
       "6     1\n",
       "7     0\n",
       "8     0\n",
       "9     0\n",
       "10    0\n",
       "11    0\n",
       "12    1\n",
       "13    0\n",
       "14    0\n",
       "15    1\n",
       "16    0\n",
       "17    0\n",
       "18    0\n",
       "19    1\n",
       "Name: 0, dtype: int64"
      ]
     },
     "execution_count": 20,
     "metadata": {},
     "output_type": "execute_result"
    }
   ],
   "source": [
    "data[0].apply(flagger)"
   ]
  },
  {
   "cell_type": "markdown",
   "metadata": {},
   "source": [
    "we could combine a for loop to do this for the entire dataset"
   ]
  },
  {
   "cell_type": "code",
   "execution_count": 21,
   "metadata": {},
   "outputs": [],
   "source": [
    "for col in data.columns:\n",
    "    data[col].apply(flagger)"
   ]
  },
  {
   "cell_type": "markdown",
   "metadata": {},
   "source": [
    "We can write a convenience function to go through each column in a dataframe and apply the function to the frame directly, versus using a for loop"
   ]
  },
  {
   "cell_type": "code",
   "execution_count": 22,
   "metadata": {
    "collapsed": true
   },
   "outputs": [],
   "source": [
    "def pd_flagger(df):\n",
    "    flags = [flagger(val) for val in df]\n",
    "    if np.sum(flags) > 0:\n",
    "        return 1\n",
    "    else:\n",
    "        return 0"
   ]
  },
  {
   "cell_type": "code",
   "execution_count": 23,
   "metadata": {},
   "outputs": [
    {
     "data": {
      "text/plain": [
       "0     1\n",
       "1     1\n",
       "2     1\n",
       "3     0\n",
       "4     0\n",
       "5     1\n",
       "6     1\n",
       "7     1\n",
       "8     0\n",
       "9     0\n",
       "10    0\n",
       "11    1\n",
       "12    1\n",
       "13    0\n",
       "14    1\n",
       "15    1\n",
       "16    1\n",
       "17    1\n",
       "18    0\n",
       "19    1\n",
       "dtype: int64"
      ]
     },
     "execution_count": 23,
     "metadata": {},
     "output_type": "execute_result"
    }
   ],
   "source": [
    "df_flags = data.apply(pd_flagger, axis=1)\n",
    "df_flags"
   ]
  },
  {
   "cell_type": "markdown",
   "metadata": {},
   "source": [
    "So there's a flag for each index! We can fine tune the pd_flagger() to give us the column value instead of just a binary.  \n",
    "\n",
    "Also, here, I'm introducing a slight change to list comprehensions: dictionary comprehensions! Basically the same thing except instead of a list, it spits out a dictionary. I can use the dictionary to tell me what column and if that column was 1 or 0 for flagging."
   ]
  },
  {
   "cell_type": "code",
   "execution_count": 24,
   "metadata": {
    "collapsed": true
   },
   "outputs": [],
   "source": [
    "def pd_flagger2(df):\n",
    "    flags = {idx:flagger(val) for idx, val in enumerate(df)}\n",
    "    return [k for k,v in flags.items() if v ==1]"
   ]
  },
  {
   "cell_type": "code",
   "execution_count": 25,
   "metadata": {},
   "outputs": [
    {
     "data": {
      "text/plain": [
       "0        [3]\n",
       "1     [2, 3]\n",
       "2        [0]\n",
       "3         []\n",
       "4         []\n",
       "5        [4]\n",
       "6     [0, 4]\n",
       "7     [1, 3]\n",
       "8         []\n",
       "9         []\n",
       "10        []\n",
       "11       [3]\n",
       "12       [0]\n",
       "13        []\n",
       "14    [2, 3]\n",
       "15    [0, 2]\n",
       "16       [1]\n",
       "17       [2]\n",
       "18        []\n",
       "19       [0]\n",
       "dtype: object"
      ]
     },
     "execution_count": 25,
     "metadata": {},
     "output_type": "execute_result"
    }
   ],
   "source": [
    "df_flags2 = data.apply(pd_flagger2, axis=1)\n",
    "df_flags2"
   ]
  },
  {
   "cell_type": "markdown",
   "metadata": {},
   "source": [
    "We can also just directly add this to our dataframe as its own column:"
   ]
  },
  {
   "cell_type": "code",
   "execution_count": 26,
   "metadata": {},
   "outputs": [
    {
     "data": {
      "text/html": [
       "<div>\n",
       "<style>\n",
       "    .dataframe thead tr:only-child th {\n",
       "        text-align: right;\n",
       "    }\n",
       "\n",
       "    .dataframe thead th {\n",
       "        text-align: left;\n",
       "    }\n",
       "\n",
       "    .dataframe tbody tr th {\n",
       "        vertical-align: top;\n",
       "    }\n",
       "</style>\n",
       "<table border=\"1\" class=\"dataframe\">\n",
       "  <thead>\n",
       "    <tr style=\"text-align: right;\">\n",
       "      <th></th>\n",
       "      <th>0</th>\n",
       "      <th>1</th>\n",
       "      <th>2</th>\n",
       "      <th>3</th>\n",
       "      <th>4</th>\n",
       "      <th>flags</th>\n",
       "    </tr>\n",
       "  </thead>\n",
       "  <tbody>\n",
       "    <tr>\n",
       "      <th>0</th>\n",
       "      <td>0.274397</td>\n",
       "      <td>0.058965</td>\n",
       "      <td>0.701447</td>\n",
       "      <td>0.425146</td>\n",
       "      <td>0.987868</td>\n",
       "      <td>[3]</td>\n",
       "    </tr>\n",
       "    <tr>\n",
       "      <th>1</th>\n",
       "      <td>0.096999</td>\n",
       "      <td>0.094174</td>\n",
       "      <td>0.532352</td>\n",
       "      <td>0.460996</td>\n",
       "      <td>0.256847</td>\n",
       "      <td>[2, 3]</td>\n",
       "    </tr>\n",
       "    <tr>\n",
       "      <th>2</th>\n",
       "      <td>0.410812</td>\n",
       "      <td>0.918436</td>\n",
       "      <td>0.234061</td>\n",
       "      <td>0.160211</td>\n",
       "      <td>0.065362</td>\n",
       "      <td>[0]</td>\n",
       "    </tr>\n",
       "    <tr>\n",
       "      <th>3</th>\n",
       "      <td>0.728006</td>\n",
       "      <td>0.149043</td>\n",
       "      <td>0.850813</td>\n",
       "      <td>0.663227</td>\n",
       "      <td>0.888791</td>\n",
       "      <td>[]</td>\n",
       "    </tr>\n",
       "    <tr>\n",
       "      <th>4</th>\n",
       "      <td>0.732153</td>\n",
       "      <td>0.637180</td>\n",
       "      <td>0.343271</td>\n",
       "      <td>0.726732</td>\n",
       "      <td>0.742553</td>\n",
       "      <td>[]</td>\n",
       "    </tr>\n",
       "    <tr>\n",
       "      <th>5</th>\n",
       "      <td>0.350698</td>\n",
       "      <td>0.721609</td>\n",
       "      <td>0.943170</td>\n",
       "      <td>0.272385</td>\n",
       "      <td>0.550245</td>\n",
       "      <td>[4]</td>\n",
       "    </tr>\n",
       "    <tr>\n",
       "      <th>6</th>\n",
       "      <td>0.403262</td>\n",
       "      <td>0.075591</td>\n",
       "      <td>0.868090</td>\n",
       "      <td>0.606123</td>\n",
       "      <td>0.483321</td>\n",
       "      <td>[0, 4]</td>\n",
       "    </tr>\n",
       "    <tr>\n",
       "      <th>7</th>\n",
       "      <td>0.323190</td>\n",
       "      <td>0.475267</td>\n",
       "      <td>0.245301</td>\n",
       "      <td>0.472825</td>\n",
       "      <td>0.043853</td>\n",
       "      <td>[1, 3]</td>\n",
       "    </tr>\n",
       "    <tr>\n",
       "      <th>8</th>\n",
       "      <td>0.175698</td>\n",
       "      <td>0.357960</td>\n",
       "      <td>0.878063</td>\n",
       "      <td>0.675739</td>\n",
       "      <td>0.302277</td>\n",
       "      <td>[]</td>\n",
       "    </tr>\n",
       "    <tr>\n",
       "      <th>9</th>\n",
       "      <td>0.173087</td>\n",
       "      <td>0.863698</td>\n",
       "      <td>0.857170</td>\n",
       "      <td>0.186360</td>\n",
       "      <td>0.150995</td>\n",
       "      <td>[]</td>\n",
       "    </tr>\n",
       "    <tr>\n",
       "      <th>10</th>\n",
       "      <td>0.722747</td>\n",
       "      <td>0.324767</td>\n",
       "      <td>0.700809</td>\n",
       "      <td>0.807524</td>\n",
       "      <td>0.658238</td>\n",
       "      <td>[]</td>\n",
       "    </tr>\n",
       "    <tr>\n",
       "      <th>11</th>\n",
       "      <td>0.225825</td>\n",
       "      <td>0.198708</td>\n",
       "      <td>0.314015</td>\n",
       "      <td>0.509415</td>\n",
       "      <td>0.751656</td>\n",
       "      <td>[3]</td>\n",
       "    </tr>\n",
       "    <tr>\n",
       "      <th>12</th>\n",
       "      <td>0.521135</td>\n",
       "      <td>0.873046</td>\n",
       "      <td>0.657897</td>\n",
       "      <td>0.735038</td>\n",
       "      <td>0.335615</td>\n",
       "      <td>[0]</td>\n",
       "    </tr>\n",
       "    <tr>\n",
       "      <th>13</th>\n",
       "      <td>0.262938</td>\n",
       "      <td>0.399662</td>\n",
       "      <td>0.029516</td>\n",
       "      <td>0.159914</td>\n",
       "      <td>0.303950</td>\n",
       "      <td>[]</td>\n",
       "    </tr>\n",
       "    <tr>\n",
       "      <th>14</th>\n",
       "      <td>0.287506</td>\n",
       "      <td>0.786132</td>\n",
       "      <td>0.472450</td>\n",
       "      <td>0.574894</td>\n",
       "      <td>0.186462</td>\n",
       "      <td>[2, 3]</td>\n",
       "    </tr>\n",
       "    <tr>\n",
       "      <th>15</th>\n",
       "      <td>0.410353</td>\n",
       "      <td>0.682343</td>\n",
       "      <td>0.400418</td>\n",
       "      <td>0.345924</td>\n",
       "      <td>0.820643</td>\n",
       "      <td>[0, 2]</td>\n",
       "    </tr>\n",
       "    <tr>\n",
       "      <th>16</th>\n",
       "      <td>0.147474</td>\n",
       "      <td>0.484753</td>\n",
       "      <td>0.367382</td>\n",
       "      <td>0.110855</td>\n",
       "      <td>0.179809</td>\n",
       "      <td>[1]</td>\n",
       "    </tr>\n",
       "    <tr>\n",
       "      <th>17</th>\n",
       "      <td>0.077000</td>\n",
       "      <td>0.097138</td>\n",
       "      <td>0.570791</td>\n",
       "      <td>0.125759</td>\n",
       "      <td>0.897886</td>\n",
       "      <td>[2]</td>\n",
       "    </tr>\n",
       "    <tr>\n",
       "      <th>18</th>\n",
       "      <td>0.687980</td>\n",
       "      <td>0.654354</td>\n",
       "      <td>0.322736</td>\n",
       "      <td>0.141370</td>\n",
       "      <td>0.390972</td>\n",
       "      <td>[]</td>\n",
       "    </tr>\n",
       "    <tr>\n",
       "      <th>19</th>\n",
       "      <td>0.487398</td>\n",
       "      <td>0.037583</td>\n",
       "      <td>0.119588</td>\n",
       "      <td>0.987483</td>\n",
       "      <td>0.041364</td>\n",
       "      <td>[0]</td>\n",
       "    </tr>\n",
       "  </tbody>\n",
       "</table>\n",
       "</div>"
      ],
      "text/plain": [
       "           0         1         2         3         4   flags\n",
       "0   0.274397  0.058965  0.701447  0.425146  0.987868     [3]\n",
       "1   0.096999  0.094174  0.532352  0.460996  0.256847  [2, 3]\n",
       "2   0.410812  0.918436  0.234061  0.160211  0.065362     [0]\n",
       "3   0.728006  0.149043  0.850813  0.663227  0.888791      []\n",
       "4   0.732153  0.637180  0.343271  0.726732  0.742553      []\n",
       "5   0.350698  0.721609  0.943170  0.272385  0.550245     [4]\n",
       "6   0.403262  0.075591  0.868090  0.606123  0.483321  [0, 4]\n",
       "7   0.323190  0.475267  0.245301  0.472825  0.043853  [1, 3]\n",
       "8   0.175698  0.357960  0.878063  0.675739  0.302277      []\n",
       "9   0.173087  0.863698  0.857170  0.186360  0.150995      []\n",
       "10  0.722747  0.324767  0.700809  0.807524  0.658238      []\n",
       "11  0.225825  0.198708  0.314015  0.509415  0.751656     [3]\n",
       "12  0.521135  0.873046  0.657897  0.735038  0.335615     [0]\n",
       "13  0.262938  0.399662  0.029516  0.159914  0.303950      []\n",
       "14  0.287506  0.786132  0.472450  0.574894  0.186462  [2, 3]\n",
       "15  0.410353  0.682343  0.400418  0.345924  0.820643  [0, 2]\n",
       "16  0.147474  0.484753  0.367382  0.110855  0.179809     [1]\n",
       "17  0.077000  0.097138  0.570791  0.125759  0.897886     [2]\n",
       "18  0.687980  0.654354  0.322736  0.141370  0.390972      []\n",
       "19  0.487398  0.037583  0.119588  0.987483  0.041364     [0]"
      ]
     },
     "execution_count": 26,
     "metadata": {},
     "output_type": "execute_result"
    }
   ],
   "source": [
    "data['flags'] = data.apply(pd_flagger2, axis=1)\n",
    "data"
   ]
  }
 ],
 "metadata": {
  "hide_input": false,
  "kernelspec": {
   "display_name": "Python 3",
   "language": "python",
   "name": "python3"
  },
  "language_info": {
   "codemirror_mode": {
    "name": "ipython",
    "version": 3
   },
   "file_extension": ".py",
   "mimetype": "text/x-python",
   "name": "python",
   "nbconvert_exporter": "python",
   "pygments_lexer": "ipython3",
   "version": "3.6.3"
  }
 },
 "nbformat": 4,
 "nbformat_minor": 2
}
